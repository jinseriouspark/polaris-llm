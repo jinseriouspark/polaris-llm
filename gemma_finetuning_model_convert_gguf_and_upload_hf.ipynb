{
  "cells": [
    {
      "cell_type": "markdown",
      "metadata": {
        "id": "view-in-github",
        "colab_type": "text"
      },
      "source": [
        "<a href=\"https://colab.research.google.com/github/jinseriouspark/polaris-llm/blob/main/gemma_finetuning_model_convert_gguf_and_upload_hf.ipynb\" target=\"_parent\"><img src=\"https://colab.research.google.com/assets/colab-badge.svg\" alt=\"Open In Colab\"/></a>"
      ]
    },
    {
      "cell_type": "markdown",
      "source": [
        "# gemma_finetuning_model_convert_gguf_and_upload_hf\n",
        "- ref1 : https://github.com/ggerganov/llama.cpp/discussions/2948\n",
        "- ref2 : https://github.com/ggerganov/llama.cpp/issues/7897\n",
        "\n",
        "\n",
        "1. download model snapshot\n",
        "2. convert gguf\n",
        "    \n",
        "    - you need to remove the check part in `/content/llama.cpp/gguf-py/gguf/gguf_writer.py`\n",
        "    ```\n",
        "    if key in self.kv_data:\n",
        "        raise ValueError(f'Duplicated key name {key!r}')```\n",
        "3. upload your gguf file on hugging face\n"
      ],
      "metadata": {
        "id": "yqenzQW0TLUp"
      }
    },
    {
      "cell_type": "code",
      "execution_count": null,
      "metadata": {
        "id": "axc9D-Dj7S8R",
        "collapsed": true
      },
      "outputs": [],
      "source": [
        "!pip install huggingface_hub"
      ]
    },
    {
      "cell_type": "code",
      "source": [
        "from huggingface_hub import snapshot_download\n",
        "model_id=\"seriouspark/gemma-7b-it-persona\"\n",
        "snapshot_download(repo_id=model_id, local_dir=\"gemma-7b-it-persona\",\n",
        "                  local_dir_use_symlinks=False, revision=\"main\")"
      ],
      "metadata": {
        "id": "IdmA5SjKKNL6",
        "collapsed": true
      },
      "execution_count": null,
      "outputs": []
    },
    {
      "cell_type": "code",
      "source": [
        "!git clone https://github.com/ggerganov/llama.cpp.git"
      ],
      "metadata": {
        "id": "1X_ABIv7KZ_c"
      },
      "execution_count": null,
      "outputs": []
    },
    {
      "cell_type": "code",
      "source": [
        "!pip install -r ./llama.cpp/requirements.txt"
      ],
      "metadata": {
        "collapsed": true,
        "id": "QpEoRGJOKhsX"
      },
      "execution_count": null,
      "outputs": []
    },
    {
      "cell_type": "code",
      "source": [
        "# before run this cell,\n",
        "# you need to remove the check part in\n",
        "#    - /content/llama.cpp/gguf-py/gguf/gguf_writer.py\n",
        "##  if key in self.kv_data:\n",
        "##             raise ValueError(f'Duplicated key name {key!r}')\n",
        "\n",
        "!python ./llama.cpp/convert-hf-to-gguf.py -h"
      ],
      "metadata": {
        "id": "BlkYRt9RKi-l"
      },
      "execution_count": null,
      "outputs": []
    },
    {
      "cell_type": "code",
      "source": [
        "!python ./llama.cpp/convert-hf-to-gguf.py gemma-7b-it-persona \\\n",
        "  --outfile gemma-7b-it-persona.gguf \\\n",
        "  --outtype q8_0"
      ],
      "metadata": {
        "id": "S7YVO69hKkTw"
      },
      "execution_count": null,
      "outputs": []
    },
    {
      "cell_type": "code",
      "source": [
        "ls -lash gemma-7b-it-persona.gguf"
      ],
      "metadata": {
        "id": "rf1q4coXKr6Q"
      },
      "execution_count": null,
      "outputs": []
    },
    {
      "cell_type": "code",
      "source": [
        "from huggingface_hub import notebook_login\n",
        "notebook_login()"
      ],
      "metadata": {
        "id": "rKzCZL4zSX95"
      },
      "execution_count": null,
      "outputs": []
    },
    {
      "cell_type": "code",
      "source": [
        "from huggingface_hub import HfApi\n",
        "api = HfApi()\n",
        "\n",
        "model_id = \"seriouspark/gemma-7b-it-persona-gguf\"\n",
        "api.create_repo(model_id, exist_ok=True, repo_type=\"model\")\n",
        "api.upload_file(\n",
        "    path_or_fileobj=\"gemma-7b-it-persona.gguf\",\n",
        "    path_in_repo=\"gemma-7b-it-persona.gguf\",\n",
        "    repo_id=model_id,\n",
        ")"
      ],
      "metadata": {
        "id": "j7XFt2r8KtcH"
      },
      "execution_count": null,
      "outputs": []
    }
  ],
  "metadata": {
    "accelerator": "GPU",
    "colab": {
      "gpuType": "T4",
      "provenance": [],
      "include_colab_link": true
    },
    "kernelspec": {
      "display_name": "Python 3",
      "name": "python3"
    },
    "language_info": {
      "name": "python"
    }
  },
  "nbformat": 4,
  "nbformat_minor": 0
}